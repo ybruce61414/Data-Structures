{
 "cells": [
  {
   "cell_type": "code",
   "execution_count": 2,
   "metadata": {
    "collapsed": false
   },
   "outputs": [
    {
     "name": "stdout",
     "output_type": "stream",
     "text": [
      "NO.5: rechard\tMath: 98\tEnglish: 77\n",
      "NO.6: coco\tMath: 45\tEnglish: 56\n",
      "NO.1: viola\tMath: 99\tEnglish: 78\n",
      "NO.2: irine\tMath: 56\tEnglish: 78\n",
      "NO.3: grass\tMath: 66\tEnglish: 88\n",
      "NO.4: andy\tMath: 78\tEnglish: 87\n"
     ]
    }
   ],
   "source": [
    "#circular linked list \n",
    "\n",
    "class student():\n",
    "    def __init__(self,name,number,math,eng):\n",
    "        self.name = name\n",
    "        self.math = math\n",
    "        self.eng = eng\n",
    "        self.no = number\n",
    "        self.next = None\n",
    "\n",
    "    def __str__(self):\n",
    "        return \"NO.%d: %s\\tMath: %d\\tEnglish: %d\" % (self.no,self.name,self.math,self.eng)    \n",
    "\n",
    "class CircularList():\n",
    "    def __init__(self):\n",
    "        self.head = None\n",
    "        \n",
    "    def append(self,name,number,math,eng):            \n",
    "        #add item to the rear\n",
    "        if not self.head:\n",
    "            self.head = student(name,number,math,eng)\n",
    "            self.head.next = self.head\n",
    "        else:\n",
    "            new_one = student(name,number,math,eng)\n",
    "            current = self.head\n",
    "            \n",
    "            while current.next != self.head:\n",
    "                current = current.next\n",
    "            current.next = new_one\n",
    "            new_one.next = self.head\n",
    "            \n",
    "    def prepend(self,name,number,math,eng):          \n",
    "        #add item to the front\n",
    "        new_one = student(name,number,math,eng)\n",
    "        new_one.next = self.head\n",
    "        current = self.head\n",
    "        \n",
    "        if not self.head:                            \n",
    "            #when self.head is None, no element in the list\n",
    "            new_one.next = new_one\n",
    "        else:\n",
    "            while current.next != self.head:\n",
    "                current = current.next\n",
    "            current.next = new_one\n",
    "        self.head = new_one    \n",
    "    \n",
    "    def size(self):\n",
    "        pass\n",
    "    \n",
    "    def rotate(self,k):\n",
    "        front,rear = self.head,self.head\n",
    "        count = 0\n",
    "        \n",
    "        while front and count < k-1:\n",
    "            front = front.next\n",
    "            count += 1\n",
    "        self.head = front.next    \n",
    "    \n",
    "    def printlist(self):\n",
    "        current = self.head\n",
    "        while current:\n",
    "            print(current)\n",
    "            current = current.next\n",
    "            if current == self.head:\n",
    "                break\n",
    "        \n",
    "                                        \n",
    "list1 = CircularList()     \n",
    "list1.append('viola',1,99,78)\n",
    "list1.append('irine',2,56,78)\n",
    "list1.append('grass',3,66,88)\n",
    "list1.append('andy',4,78,87)\n",
    "list1.append('rechard',5,98,77)\n",
    "list1.append('coco',6,45,56)\n",
    "list1.rotate(4)\n",
    "list1.printlist()"
   ]
  }
 ],
 "metadata": {
  "anaconda-cloud": {},
  "kernelspec": {
   "display_name": "Python [default]",
   "language": "python",
   "name": "python3"
  },
  "language_info": {
   "codemirror_mode": {
    "name": "ipython",
    "version": 3
   },
   "file_extension": ".py",
   "mimetype": "text/x-python",
   "name": "python",
   "nbconvert_exporter": "python",
   "pygments_lexer": "ipython3",
   "version": "3.5.2"
  }
 },
 "nbformat": 4,
 "nbformat_minor": 1
}
