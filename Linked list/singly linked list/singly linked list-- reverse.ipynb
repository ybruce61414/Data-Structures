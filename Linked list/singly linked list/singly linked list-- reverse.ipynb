{
 "cells": [
  {
   "cell_type": "code",
   "execution_count": 3,
   "metadata": {
    "collapsed": false
   },
   "outputs": [
    {
     "name": "stdout",
     "output_type": "stream",
     "text": [
      "NO.4: rechard\tMath: 67\tEnglish: 98\n",
      "NO.3: andy\tMath: 56\tEnglish: 78\n",
      "NO.2: irine\tMath: 67\tEnglish: 89\n",
      "NO.1: viola\tMath: 99\tEnglish: 100\n"
     ]
    }
   ],
   "source": [
    "#singly linked list\n",
    "\n",
    "class student():\n",
    "    def __init__(self,name,number,math,eng):\n",
    "        self.name = name\n",
    "        self.math = math\n",
    "        self.eng = eng\n",
    "        self.no = number\n",
    "        self.next = None\n",
    "\n",
    "    def __str__(self):\n",
    "        return \"NO.%d: %s\\tMath: %d\\tEnglish: %d\" % (self.no,self.name,self.math,self.eng)\n",
    "    \n",
    "class calsslinkedlist():\n",
    "    \n",
    "    def __init__(self):\n",
    "        self.head = None\n",
    "    \n",
    "    def append(self,name,number,math,eng):\n",
    "        current = self.head\n",
    "        new_one = student(name,number,math,eng)\n",
    "        if not self.head:\n",
    "            self.head = new_one\n",
    "        else:\n",
    "            while current.next:\n",
    "                current = current.next\n",
    "            current.next = new_one\n",
    "    \n",
    "    def prepend(self,name,number,math,eng):\n",
    "        current = self.head\n",
    "        new_one = student(name,number,math,eng)\n",
    "        if not self.head:\n",
    "            self.head = new_one\n",
    "        else:\n",
    "            new_one.next = current\n",
    "            self.head = new_one\n",
    "            \n",
    "    def swap_2nodes(self,name1,name2):            \n",
    "        pass\n",
    "    def remove(self,name):\n",
    "        pass\n",
    "    def size(self):\n",
    "        pass\n",
    "    \n",
    "    def printlist(self):\n",
    "        current = self.head\n",
    "        while current != None:\n",
    "            print(current)\n",
    "            current = current.next\n",
    "    \n",
    "    def average(self):\n",
    "        pass\n",
    "    \n",
    "    def reverse(self):         \n",
    "        current = self.head\n",
    "        prev = None\n",
    "        while current != None: \n",
    "            #reverse the link(prev)\n",
    "            temp =  current.next\n",
    "            current.next = prev\n",
    "            prev = current \n",
    "            current = temp\n",
    "        self.head = prev  \n",
    "\n",
    "list = calsslinkedlist()\n",
    "list.append('viola',1,99,100)\n",
    "list.append('irine',2,67,89)\n",
    "list.append('andy',3,56,78)\n",
    "list.append('rechard',4,67,98)\n",
    "list.reverse()\n",
    "\n",
    "list.printlist()"
   ]
  }
 ],
 "metadata": {
  "kernelspec": {
   "display_name": "Python [default]",
   "language": "python",
   "name": "python3"
  },
  "language_info": {
   "codemirror_mode": {
    "name": "ipython",
    "version": 3
   },
   "file_extension": ".py",
   "mimetype": "text/x-python",
   "name": "python",
   "nbconvert_exporter": "python",
   "pygments_lexer": "ipython3",
   "version": "3.5.2"
  }
 },
 "nbformat": 4,
 "nbformat_minor": 1
}
