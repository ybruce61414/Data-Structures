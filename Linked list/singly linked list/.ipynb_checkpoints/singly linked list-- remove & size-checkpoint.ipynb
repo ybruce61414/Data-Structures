{
 "cells": [
  {
   "cell_type": "code",
   "execution_count": 6,
   "metadata": {
    "collapsed": false
   },
   "outputs": [
    {
     "name": "stdout",
     "output_type": "stream",
     "text": [
      "NO.2: irine\tMath: 67\tEnglish: 89\n",
      "NO.3: andy\tMath: 56\tEnglish: 78\n"
     ]
    },
    {
     "data": {
      "text/plain": [
       "2"
      ]
     },
     "execution_count": 6,
     "metadata": {},
     "output_type": "execute_result"
    }
   ],
   "source": [
    "#singly linked list\n",
    "\n",
    "class student():\n",
    "    def __init__(self,name,number,math,eng):\n",
    "        self.name = name\n",
    "        self.math = math\n",
    "        self.eng = eng\n",
    "        self.no = number\n",
    "        self.next = None\n",
    "\n",
    "    def __str__(self):\n",
    "        return \"NO.%d: %s\\tMath: %d\\tEnglish: %d\" % (self.no,self.name,self.math,self.eng)\n",
    "    \n",
    "class calsslinkedlist():\n",
    "    \n",
    "    def __init__(self):\n",
    "        self.head = None\n",
    "    \n",
    "    def append(self,name,number,math,eng):\n",
    "        current = self.head\n",
    "        new_one = student(name,number,math,eng)\n",
    "        if not self.head:\n",
    "            self.head = new_one\n",
    "        else:\n",
    "            while current.next:\n",
    "                current = current.next\n",
    "            current.next = new_one\n",
    "    \n",
    "    def prepend(self,name,number,math,eng):\n",
    "        current = self.head\n",
    "        new_one = student(name,number,math,eng)\n",
    "        if not self.head:\n",
    "            self.head = new_one\n",
    "        else:\n",
    "            new_one.next = current\n",
    "            self.head = new_one\n",
    "            \n",
    "    def swap_2nodes(self,name1,name2):            \n",
    "        pass\n",
    "    \n",
    "    def remove(self,name):\n",
    "        current = self.head\n",
    "        prev = None\n",
    "        while current:\n",
    "            if current.name == name and current == self.head: #head removed\n",
    "                self.head = current.next\n",
    "            elif current.name == name:\n",
    "                if not current.next:\n",
    "                    prev.next = None\n",
    "                else:\n",
    "                    prev.next = current.next\n",
    "            prev = current\n",
    "            current = current.next\n",
    "            \n",
    "    def size(self):\n",
    "        current = self.head     \n",
    "        count = 0\n",
    "        while current != None:\n",
    "            count = count + 1\n",
    "            current = current.next\n",
    "        return count\n",
    "    \n",
    "    def printlist(self):\n",
    "        current = self.head\n",
    "        while current != None:\n",
    "            print(current)\n",
    "            current = current.next\n",
    "    \n",
    "    def average(self):\n",
    "        pass\n",
    "    def reverse(self):         \n",
    "        pass\n",
    "\n",
    "list = calsslinkedlist()\n",
    "list.append('viola',1,99,100)\n",
    "list.append('irine',2,67,89)\n",
    "list.append('andy',3,56,78)\n",
    "list.remove('viola')\n",
    "list.printlist()\n",
    "list.size()"
   ]
  }
 ],
 "metadata": {
  "anaconda-cloud": {},
  "kernelspec": {
   "display_name": "Python [default]",
   "language": "python",
   "name": "python3"
  },
  "language_info": {
   "codemirror_mode": {
    "name": "ipython",
    "version": 3
   },
   "file_extension": ".py",
   "mimetype": "text/x-python",
   "name": "python",
   "nbconvert_exporter": "python",
   "pygments_lexer": "ipython3",
   "version": "3.5.2"
  }
 },
 "nbformat": 4,
 "nbformat_minor": 1
}
