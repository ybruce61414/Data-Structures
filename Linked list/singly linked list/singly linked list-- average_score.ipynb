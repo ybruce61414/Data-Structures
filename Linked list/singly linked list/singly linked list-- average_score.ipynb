{
 "cells": [
  {
   "cell_type": "code",
   "execution_count": 2,
   "metadata": {
    "collapsed": false
   },
   "outputs": [
    {
     "name": "stdout",
     "output_type": "stream",
     "text": [
      "NO.1: viola\tMath: 99\tEnglish: 100\n",
      "NO.2: irine\tMath: 67\tEnglish: 87\n",
      "NO.3: andy\tMath: 56\tEnglish: 78\n",
      "average score(math):           74.0\n",
      "average score(english):  88.33333333333333\n"
     ]
    }
   ],
   "source": [
    "#singly linked list\n",
    "\n",
    "class student():\n",
    "    def __init__(self,name,number,math,eng):\n",
    "        self.name = name\n",
    "        self.math = math\n",
    "        self.eng = eng\n",
    "        self.no = number\n",
    "        self.next = None\n",
    "\n",
    "    def __str__(self):\n",
    "        return \"NO.%d: %s\\tMath: %d\\tEnglish: %d\" % (self.no,self.name,self.math,self.eng)\n",
    "    \n",
    "class calsslinkedlist():\n",
    "    \n",
    "    def __init__(self):\n",
    "        self.head = None\n",
    "    \n",
    "    def append(self,name,number,math,eng):\n",
    "        current = self.head\n",
    "        new_one = student(name,number,math,eng)\n",
    "        if not self.head:\n",
    "            self.head = new_one\n",
    "        else:\n",
    "            while current.next:\n",
    "                current = current.next\n",
    "            current.next = new_one\n",
    "    \n",
    "    def prepend(self,name,number,math,eng):\n",
    "        current = self.head\n",
    "        new_one = student(name,number,math,eng)\n",
    "        if not self.head:\n",
    "            self.head = new_one\n",
    "        else:\n",
    "            new_one.next = current\n",
    "            self.head = new_one\n",
    "            \n",
    "    def swap_2nodes(self,name1,name2):            \n",
    "        pass\n",
    "    def remove(self,name):\n",
    "        pass\n",
    "    def size(self):\n",
    "        pass\n",
    "    \n",
    "    def average(self):\n",
    "        current = self.head\n",
    "        msum, esum, totalnum = 0, 0, 0\n",
    "        while current != None:\n",
    "            msum += current.math\n",
    "            esum += current.eng\n",
    "            totalnum += 1 \n",
    "            current = current.next\n",
    "        \n",
    "        try:\n",
    "            averitem = {'average score(math):':msum/totalnum,'average score(english):':esum/totalnum}\n",
    "            for k,v in averitem.items():\n",
    "                print(k.ljust(25)+str(v).rjust(10))\n",
    "        \n",
    "        except ZeroDivisionError:\n",
    "            print('no person')  \n",
    "    \n",
    "    def printlist(self):\n",
    "        current = self.head\n",
    "        while current != None:\n",
    "            print(current)\n",
    "            current = current.next\n",
    "    \n",
    "    def reverse(self):         \n",
    "        pass\n",
    "\n",
    "list = calsslinkedlist()\n",
    "list.append('viola',1,99,100)\n",
    "list.append('irine',2,67,87)\n",
    "list.append('andy',3,56,78)\n",
    "list.printlist()\n",
    "list.average()"
   ]
  }
 ],
 "metadata": {
  "anaconda-cloud": {},
  "kernelspec": {
   "display_name": "Python [default]",
   "language": "python",
   "name": "python3"
  },
  "language_info": {
   "codemirror_mode": {
    "name": "ipython",
    "version": 3
   },
   "file_extension": ".py",
   "mimetype": "text/x-python",
   "name": "python",
   "nbconvert_exporter": "python",
   "pygments_lexer": "ipython3",
   "version": "3.5.2"
  }
 },
 "nbformat": 4,
 "nbformat_minor": 1
}
