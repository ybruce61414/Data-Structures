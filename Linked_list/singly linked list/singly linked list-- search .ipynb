{
 "cells": [
  {
   "cell_type": "code",
   "execution_count": 2,
   "metadata": {
    "collapsed": false
   },
   "outputs": [
    {
     "name": "stdout",
     "output_type": "stream",
     "text": [
      "NO.1: viola\tMath: 99\tEnglish: 100\n",
      "NO.2: irine\tMath: 67\tEnglish: 89\n",
      "NO.3: andy\tMath: 56\tEnglish: 78\n"
     ]
    },
    {
     "data": {
      "text/plain": [
       "True"
      ]
     },
     "execution_count": 2,
     "metadata": {},
     "output_type": "execute_result"
    }
   ],
   "source": [
    "#singly linked list \n",
    "\n",
    "class student():\n",
    "    def __init__(self,name,number,math,eng):\n",
    "        self.name = name\n",
    "        self.math = math\n",
    "        self.eng = eng\n",
    "        self.no = number\n",
    "        self.next = None\n",
    "\n",
    "    def __str__(self):\n",
    "        return \"NO.%d: %s\\tMath: %d\\tEnglish: %d\" % (self.no,self.name,self.math,self.eng)    \n",
    "\n",
    "class singlylinkedlist():\n",
    "    \n",
    "    def __init__(self):\n",
    "        self.head = None\n",
    "    \n",
    "    def append(self,name,number,math,eng):\n",
    "        current = self.head\n",
    "        new_one = student(name,number,math,eng)\n",
    "        if not self.head:\n",
    "            self.head = new_one\n",
    "        else:\n",
    "            while current.next:\n",
    "                current = current.next\n",
    "            current.next = new_one\n",
    "    \n",
    "    def prepend(self,name,number,math,eng):\n",
    "        current = self.head\n",
    "        new_one = student(name,number,math,eng)\n",
    "        if not self.head:\n",
    "            self.head = new_one\n",
    "        else:\n",
    "            new_one.next = current\n",
    "            self.head = new_one\n",
    "            \n",
    "    def printlist(self):\n",
    "        current = self.head\n",
    "        while current != None:\n",
    "            print(current)\n",
    "            current = current.next\n",
    "            \n",
    "    def remove(self,name):\n",
    "        pass\n",
    "    def size(self):\n",
    "        pass    \n",
    "    def average(self):\n",
    "        pass\n",
    "    def reverse(self):         \n",
    "        pass\n",
    "\n",
    "    def search(self,name):\n",
    "        current = self.head\n",
    "        found = False\n",
    "        while current and not found:\n",
    "            if current.name == name:\n",
    "                found = True\n",
    "            else:\n",
    "                current = current.next\n",
    "\n",
    "        return found    \n",
    "\n",
    "\n",
    "list = singlylinkedlist()\n",
    "list.append('viola',1,99,100)\n",
    "list.append('irine',2,67,89)\n",
    "list.append('andy',3,56,78)\n",
    "list.printlist()\n",
    "list.search('viola')"
   ]
  }
 ],
 "metadata": {
  "anaconda-cloud": {},
  "kernelspec": {
   "display_name": "Python [default]",
   "language": "python",
   "name": "python3"
  },
  "language_info": {
   "codemirror_mode": {
    "name": "ipython",
    "version": 3
   },
   "file_extension": ".py",
   "mimetype": "text/x-python",
   "name": "python",
   "nbconvert_exporter": "python",
   "pygments_lexer": "ipython3",
   "version": "3.5.2"
  }
 },
 "nbformat": 4,
 "nbformat_minor": 1
}
