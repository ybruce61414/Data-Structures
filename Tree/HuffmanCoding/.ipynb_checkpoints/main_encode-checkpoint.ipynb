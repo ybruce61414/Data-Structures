{
 "cells": [
  {
   "cell_type": "code",
   "execution_count": 1,
   "metadata": {
    "collapsed": false
   },
   "outputs": [
    {
     "name": "stdout",
     "output_type": "stream",
     "text": [
      "Importing Jupyter notebook from HuffmanCode.ipynb\n",
      "Zero Paddings:\t4\n",
      "\n",
      " 3.998046875\tKB\n",
      "\n",
      " 2.1923828125\tKB\n",
      "\n",
      "Compression Ratio: 45.16%\n"
     ]
    }
   ],
   "source": [
    "#main_encode\n",
    "def main_encode(file_path):\n",
    "    import nbimporter,os\n",
    "    from HuffmanCode import HuffmanCoding \n",
    "    sample_file = open(file_path,'r')\n",
    "    sample_content = sample_file.read()  \n",
    "    samplesize = os.path.getsize(file_path)\n",
    "    \n",
    "    #text data to huffman tree\n",
    "    a = HuffmanCoding(sample_content)\n",
    "    a.generate_tree()\n",
    "    a.generate_huffcode()\n",
    "    #ee is encoded huffamn string\n",
    "    ee = a.encode() \n",
    "    \n",
    "    def cluster_byte(string):\n",
    "        #8 bits for 1 group(byte)\n",
    "        string_add,s_list,temp_list = string,[],[]\n",
    "        if len(string)%8 != 0:\n",
    "            for i in range(8-len(string)%8):\n",
    "                string_add += '0'\n",
    "                \n",
    "        for i in string_add:\n",
    "            temp_list.append(i)\n",
    "            if len(temp_list) == 4:\n",
    "                s_list.append(''.join(temp_list)+' ')\n",
    "                temp_list = []\n",
    "        return ''.join(s_list)     \n",
    "\n",
    "    def calculate_0padding(string):\n",
    "        #how many 0 paddings added into ee\n",
    "        return print('Zero Paddings:\\t%d' %(8-len(string)%8))\n",
    "                   \n",
    "    #ee is encoded huffamn \"string\"\n",
    "    #we need to save string representation into real binary\n",
    "    dirname = os.path.dirname(file_path)\n",
    "    #compressed file name\n",
    "    basename = 'encode_sample.bin'\n",
    "    \n",
    "    #save file in hex format\n",
    "    import bitstring as bit\n",
    "    if basename in os.listdir(dirname):\n",
    "        encodesize = os.path.getsize('/'.join([dirname,basename]))\n",
    "    else:\n",
    "        bins = bit.BitArray('0b'+ cluster_byte(ee))\n",
    "        with open('/'.join([dirname,basename]),'wb') as encode_file:\n",
    "            encode_file.write(bins.tobytes())\n",
    "        encodesize = os.path.getsize('/'.join([dirname,basename]))\n",
    "        \n",
    "    calculate_0padding(ee)    \n",
    "    #byte to kb/mb/gb\n",
    "    for i in [samplesize,encodesize]:\n",
    "        if 1024*1024> i > 1024:\n",
    "            sizekb = i/1024                     # Kb\n",
    "            print('\\n '+str(sizekb)+'\\tKB')\n",
    "            \n",
    "        elif 1024*1024*1024> i > 1024*1024:\n",
    "            sizemb = i/(1024*1024)              # Mb    \n",
    "            print('\\n '+str(sizemb)+'\\tMB')\n",
    "\n",
    "        elif 1024*1024*1024*1024> i > 1024*1024*1024:\n",
    "            sizegb = i/(1024*1024*1024)         # Gb            \n",
    "            print('\\n '+str(sizegb)+'\\tGB')\n",
    "    \n",
    "    print('\\nCompression Ratio: '+ \n",
    "          str(round((samplesize-encodesize)/samplesize*100,2))+'%') \n",
    "\n",
    "    \n",
    "file_path = '/Users/apple/desktop/pythoncode/sample.txt'    \n",
    "main_encode(file_path)"
   ]
  }
 ],
 "metadata": {
  "kernelspec": {
   "display_name": "Python [default]",
   "language": "python",
   "name": "python3"
  },
  "language_info": {
   "codemirror_mode": {
    "name": "ipython",
    "version": 3
   },
   "file_extension": ".py",
   "mimetype": "text/x-python",
   "name": "python",
   "nbconvert_exporter": "python",
   "pygments_lexer": "ipython3",
   "version": "3.5.2"
  }
 },
 "nbformat": 4,
 "nbformat_minor": 2
}
