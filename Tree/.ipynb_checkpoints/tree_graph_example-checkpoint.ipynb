{
 "cells": [
  {
   "cell_type": "code",
   "execution_count": 5,
   "metadata": {
    "collapsed": false
   },
   "outputs": [
    {
     "name": "stdout",
     "output_type": "stream",
     "text": [
      "[3, [5, [4, [], []], []], []]\n"
     ]
    }
   ],
   "source": [
    "#binary tree\n",
    "\n",
    "class binarytree():\n",
    "    def __init__(self,rootvalue):\n",
    "        slef.key = rootvalue\n",
    "        self.leftchild = None\n",
    "        self.rightchild = None\n",
    "    \n",
    "    def insertleft(self,newnode):\n",
    "        if self.leftchild == None:\n",
    "            self.leftchild = binarytree(newnode)\n",
    "        else:\n",
    "            temp = binarytree(newnode)\n",
    "            temp.leftchild = self.leftchild\n",
    "            self.leftchild = temp\n",
    "    \n",
    "    def insertright(self,newnode):\n",
    "        if slef.rightchild == None:\n",
    "            self.rightchild = binarytree(newnode)\n",
    "        else:\n",
    "            temp = binarytree(newnode)\n",
    "            temp.rightchild = self.leftchild\n",
    "            self.rightchild = temp\n",
    "    \n",
    "    \n",
    "    "
   ]
  },
  {
   "cell_type": "code",
   "execution_count": null,
   "metadata": {
    "collapsed": true
   },
   "outputs": [],
   "source": []
  }
 ],
 "metadata": {
  "anaconda-cloud": {},
  "kernelspec": {
   "display_name": "Python [default]",
   "language": "python",
   "name": "python3"
  },
  "language_info": {
   "codemirror_mode": {
    "name": "ipython",
    "version": 3
   },
   "file_extension": ".py",
   "mimetype": "text/x-python",
   "name": "python",
   "nbconvert_exporter": "python",
   "pygments_lexer": "ipython3",
   "version": "3.5.2"
  }
 },
 "nbformat": 4,
 "nbformat_minor": 1
}
