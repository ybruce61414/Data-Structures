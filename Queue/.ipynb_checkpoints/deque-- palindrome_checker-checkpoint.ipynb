{
 "cells": [
  {
   "cell_type": "code",
   "execution_count": 1,
   "metadata": {
    "collapsed": false
   },
   "outputs": [
    {
     "data": {
      "text/plain": [
       "True"
      ]
     },
     "execution_count": 1,
     "metadata": {},
     "output_type": "execute_result"
    }
   ],
   "source": [
    "#Palindrome-Checker\n",
    "\n",
    "class deque(object):\n",
    "    def __init__(self):\n",
    "        self.item = []\n",
    "        \n",
    "    def addfront(self,item):\n",
    "        return self.item.append(item)\n",
    "    \n",
    "    def addrear(self,item):\n",
    "        return self.item.insert(0,item)\n",
    "    \n",
    "    def removefront(self):\n",
    "        return self.item.pop()\n",
    "    \n",
    "    def removerear(self):\n",
    "        return self.item.pop(0)\n",
    "    \n",
    "    def isempty(self):\n",
    "        return self.item == []\n",
    "    \n",
    "    def size(self):\n",
    "        return len(self.item)\n",
    "    \n",
    "    def showall(self):\n",
    "        return print(self.item)\n",
    "    \n",
    "#---------------------------------------    \n",
    "    \n",
    "def checker(astring):\n",
    "    chardeque = deque()\n",
    "    \n",
    "    for ch in astring:\n",
    "        chardeque.addfront(ch)\n",
    "        \n",
    "    stillequal = True\n",
    "    \n",
    "    while chardeque.size() > 1 and stillequal:\n",
    "        first = chardeque.removefront()\n",
    "        last = chardeque.removerear()\n",
    "        if first != last:\n",
    "            stillequal = False\n",
    "            \n",
    "    return stillequal        \n",
    "  \n",
    "    \n",
    "checker('aabcbaa')        "
   ]
  }
 ],
 "metadata": {
  "kernelspec": {
   "display_name": "Python [default]",
   "language": "python",
   "name": "python3"
  },
  "language_info": {
   "codemirror_mode": {
    "name": "ipython",
    "version": 3
   },
   "file_extension": ".py",
   "mimetype": "text/x-python",
   "name": "python",
   "nbconvert_exporter": "python",
   "pygments_lexer": "ipython3",
   "version": "3.5.2"
  }
 },
 "nbformat": 4,
 "nbformat_minor": 1
}
