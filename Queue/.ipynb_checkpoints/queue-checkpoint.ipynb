{
 "cells": [
  {
   "cell_type": "code",
   "execution_count": 1,
   "metadata": {
    "collapsed": false
   },
   "outputs": [
    {
     "name": "stdout",
     "output_type": "stream",
     "text": [
      "['rechard', 'viola', 'coco']\n",
      "['rechard', 'viola']\n"
     ]
    }
   ],
   "source": [
    "#Queue in Python: first in, first out\n",
    "\n",
    "class queue(object):\n",
    "    def __init__(self):\n",
    "        self.item = []\n",
    "        \n",
    "    def isEmpty(self):\n",
    "        return self.item == []\n",
    "    \n",
    "    def enqueue(self,ob):\n",
    "        return self.item.insert(0,ob)\n",
    "    \n",
    "    def dequeue(self):\n",
    "        return self.item.pop()\n",
    "    \n",
    "    def size(self):\n",
    "        return len(self.item)\n",
    "    \n",
    "    def show(self):\n",
    "        return print(self.item)\n",
    "    \n",
    "a = queue()\n",
    "a.enqueue('coco')\n",
    "a.enqueue('viola')\n",
    "a.enqueue('rechard')\n",
    "\n",
    "a.show()\n",
    "a.dequeue()\n",
    "a.show()"
   ]
  }
 ],
 "metadata": {
  "anaconda-cloud": {},
  "kernelspec": {
   "display_name": "Python [default]",
   "language": "python",
   "name": "python3"
  },
  "language_info": {
   "codemirror_mode": {
    "name": "ipython",
    "version": 3
   },
   "file_extension": ".py",
   "mimetype": "text/x-python",
   "name": "python",
   "nbconvert_exporter": "python",
   "pygments_lexer": "ipython3",
   "version": "3.5.2"
  }
 },
 "nbformat": 4,
 "nbformat_minor": 1
}
