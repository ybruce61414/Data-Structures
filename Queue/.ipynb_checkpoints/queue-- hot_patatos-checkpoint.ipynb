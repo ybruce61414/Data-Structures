{
 "cells": [
  {
   "cell_type": "code",
   "execution_count": 1,
   "metadata": {
    "collapsed": false
   },
   "outputs": [
    {
     "data": {
      "text/plain": [
       "'richard'"
      ]
     },
     "execution_count": 1,
     "metadata": {},
     "output_type": "execute_result"
    }
   ],
   "source": [
    "# application1: hot patato\n",
    "\n",
    "class queue(object):\n",
    "    def __init__(self):\n",
    "        self.item = []\n",
    "        \n",
    "    def isEmpty(self):\n",
    "        return self.item == []\n",
    "    \n",
    "    def enqueue(self,ob):\n",
    "        return self.item.insert(0,ob)\n",
    "    \n",
    "    def dequeue(self):\n",
    "        return self.item.pop()\n",
    "    \n",
    "    def size(self):\n",
    "        return len(self.item)\n",
    "    \n",
    "    def show(self):\n",
    "        return print(self.item)\n",
    "\n",
    "#-----------------------------------\n",
    "    \n",
    "def hotpotato(namelist,num):\n",
    "    simqu = queue()\n",
    "    for name in namelist:\n",
    "        simqu.enqueue(name)\n",
    "        \n",
    "    while simqu.size() > 1:\n",
    "        for i in range(num):\n",
    "            simqu.enqueue(simqu.dequeue())\n",
    "        \n",
    "        simqu.dequeue()\n",
    "            \n",
    "    return simqu.dequeue()\n",
    "\n",
    "hotpotato([\"bruce\",'richard','coco'],3)    "
   ]
  }
 ],
 "metadata": {
  "anaconda-cloud": {},
  "kernelspec": {
   "display_name": "Python [default]",
   "language": "python",
   "name": "python3"
  },
  "language_info": {
   "codemirror_mode": {
    "name": "ipython",
    "version": 3
   },
   "file_extension": ".py",
   "mimetype": "text/x-python",
   "name": "python",
   "nbconvert_exporter": "python",
   "pygments_lexer": "ipython3",
   "version": "3.5.2"
  }
 },
 "nbformat": 4,
 "nbformat_minor": 1
}
