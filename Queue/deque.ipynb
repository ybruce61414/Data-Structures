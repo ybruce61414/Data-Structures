{
 "cells": [
  {
   "cell_type": "code",
   "execution_count": 3,
   "metadata": {
    "collapsed": false
   },
   "outputs": [
    {
     "name": "stdout",
     "output_type": "stream",
     "text": [
      "['c', 'h', 'e', 'c', 'k', 'e', 'r']\n",
      "['r', 'e', 'k', 'c', 'e', 'h', 'c']\n"
     ]
    }
   ],
   "source": [
    "#deque stack+queue \n",
    "\n",
    "class deque(object):\n",
    "    def __init__(self):\n",
    "        self.item = []\n",
    "        \n",
    "    def addfront(self,item):\n",
    "        return self.item.append(item)\n",
    "    \n",
    "    def addrear(self,item):\n",
    "        return self.item.insert(0,item)\n",
    "    \n",
    "    def removefront(self):\n",
    "        return self.item.pop()\n",
    "    \n",
    "    def removerear(self):\n",
    "        return self.item.pop(0)\n",
    "    \n",
    "    def isempty(self):\n",
    "        return self.item == []\n",
    "    \n",
    "    def size(self):\n",
    "        return len(self.item)\n",
    "    \n",
    "    def showall(self):\n",
    "        return print(self.item)\n",
    "\n",
    "    \n",
    "a = deque()\n",
    "b = deque()\n",
    "c = \"checker\"\n",
    "\n",
    "for d in c:\n",
    "    a.addfront(d)\n",
    "a.showall()  \n",
    "for d in c:\n",
    "    b.addrear(d)\n",
    "b.showall()"
   ]
  }
 ],
 "metadata": {
  "kernelspec": {
   "display_name": "Python [default]",
   "language": "python",
   "name": "python3"
  },
  "language_info": {
   "codemirror_mode": {
    "name": "ipython",
    "version": 3
   },
   "file_extension": ".py",
   "mimetype": "text/x-python",
   "name": "python",
   "nbconvert_exporter": "python",
   "pygments_lexer": "ipython3",
   "version": "3.5.2"
  }
 },
 "nbformat": 4,
 "nbformat_minor": 1
}
