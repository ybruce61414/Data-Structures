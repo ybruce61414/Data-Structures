{
 "cells": [
  {
   "cell_type": "code",
   "execution_count": 1,
   "metadata": {
    "collapsed": false
   },
   "outputs": [
    {
     "name": "stdout",
     "output_type": "stream",
     "text": [
      "A B + C D + * E F + *\n",
      "1 2 + 3 4 + 5 6 + * +\n",
      "2 9 * 3 /\n",
      "3 2 + 2 9 * + 3 /\n",
      "6 2 9 * 3 / + 4 2 * + 8 -\n"
     ]
    }
   ],
   "source": [
    "#infix to postfix converter\n",
    "\n",
    "class stack(object):\n",
    "    def __init__(self):\n",
    "        self.item = []\n",
    "   \n",
    "    def isEmpty(self):\n",
    "        return self.item == []\n",
    "    \n",
    "    def add(self,item):\n",
    "        return self.item.append(item)\n",
    "    \n",
    "    def remove(self):\n",
    "        return self.item.pop()\n",
    "    \n",
    "    def top(self):\n",
    "        return self.item[-1]\n",
    "    \n",
    "    def size(self):\n",
    "        return len(self.item)\n",
    "    \n",
    "    def showall(self):\n",
    "        return print(self.item)\n",
    "#-------------------------------------    \n",
    "\n",
    "def infixToPostfix(infix): \n",
    "    \n",
    "    prec = {'*':3,'/':3,'+':2,'-':2,'(':1}\n",
    "    opStack = stack()\n",
    "    postfixList = []\n",
    "    tokenList = infix     \n",
    "\n",
    "    for token in tokenList:\n",
    "        if token not in '+-*/()':\n",
    "            postfixList.append(token)\n",
    "        elif token == '(':\n",
    "            opStack.add(token)\n",
    "        elif token == ')':\n",
    "            topToken = opStack.remove()\n",
    "            while topToken != '(':\n",
    "                postfixList.append(topToken)\n",
    "                topToken = opStack.remove()\n",
    "        else:\n",
    "            while (not opStack.isEmpty()) and \\\n",
    "               (prec[opStack.top()] >= prec[token]):\n",
    "                    postfixList.append(opStack.remove())\n",
    "            opStack.add(token)\n",
    "\n",
    "    while not opStack.isEmpty():\n",
    "        postfixList.append(opStack.remove())\n",
    "    return \" \".join(postfixList)\n",
    "\n",
    "print(infixToPostfix(\"(A+B)*(C+D)*(E+F)\"))      \n",
    "print(infixToPostfix(\"(1+2)+(3+4)*(5+6)\"))      \n",
    "print(infixToPostfix(\"((2*9)/3)\")) \n",
    "print(infixToPostfix(\"((3+2)+(2*9))/3\")) \n",
    "print(infixToPostfix(\"(((6+((2*9)/3))+(4*2))-8)\")) \n"
   ]
  }
 ],
 "metadata": {
  "anaconda-cloud": {},
  "kernelspec": {
   "display_name": "Python [default]",
   "language": "python",
   "name": "python3"
  },
  "language_info": {
   "codemirror_mode": {
    "name": "ipython",
    "version": 3
   },
   "file_extension": ".py",
   "mimetype": "text/x-python",
   "name": "python",
   "nbconvert_exporter": "python",
   "pygments_lexer": "ipython3",
   "version": "3.5.2"
  }
 },
 "nbformat": 4,
 "nbformat_minor": 1
}
