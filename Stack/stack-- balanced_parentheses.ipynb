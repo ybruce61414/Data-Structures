{
 "cells": [
  {
   "cell_type": "code",
   "execution_count": 6,
   "metadata": {
    "collapsed": false
   },
   "outputs": [
    {
     "name": "stdout",
     "output_type": "stream",
     "text": [
      "False\n",
      "True\n"
     ]
    }
   ],
   "source": [
    "#stacks: last in first out\n",
    "# ()()   ---    balanced \n",
    "# (()))))---    not balanced \n",
    "\n",
    "class stack(object):\n",
    "    def __init__(self):\n",
    "        self.item = []\n",
    "   \n",
    "    def isEmpty(self):\n",
    "        return self.item == []\n",
    "    \n",
    "    def add(self,item):\n",
    "        return self.item.append(item)\n",
    "    \n",
    "    def remove(self):\n",
    "        return self.item.pop()\n",
    "    \n",
    "    def top(self):\n",
    "        return self.item[-1]\n",
    "    \n",
    "    def size(self):\n",
    "        return len(self.item)\n",
    "    \n",
    "    def showall(self):\n",
    "        return print(self.item)\n",
    "    \n",
    "\n",
    "def checker(string):\n",
    "    #check the ( and put it into list \n",
    "    s = stack()\n",
    "    balanced = True\n",
    "    index = 0\n",
    "    \n",
    "    while index < len(string) and balanced:\n",
    "        token = string[index]\n",
    "        if token == '(':\n",
    "            s.add(token)\n",
    "        \n",
    "        else:\n",
    "            if s.isEmpty():\n",
    "                balanced = False\n",
    "            else:\n",
    "                s.remove()\n",
    "        index += 1        \n",
    "    if balanced and s.isEmpty():\n",
    "        print('True')\n",
    "    else:\n",
    "        print('False')\n",
    "        \n",
    "checker('((()')    \n",
    "checker('(())')"
   ]
  }
 ],
 "metadata": {
  "anaconda-cloud": {},
  "kernelspec": {
   "display_name": "Python [default]",
   "language": "python",
   "name": "python3"
  },
  "language_info": {
   "codemirror_mode": {
    "name": "ipython",
    "version": 3
   },
   "file_extension": ".py",
   "mimetype": "text/x-python",
   "name": "python",
   "nbconvert_exporter": "python",
   "pygments_lexer": "ipython3",
   "version": "3.5.2"
  }
 },
 "nbformat": 4,
 "nbformat_minor": 1
}
