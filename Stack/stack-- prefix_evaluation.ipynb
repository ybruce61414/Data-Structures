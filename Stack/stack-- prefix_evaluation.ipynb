{
 "cells": [
  {
   "cell_type": "code",
   "execution_count": 3,
   "metadata": {
    "collapsed": false
   },
   "outputs": [
    {
     "name": "stdout",
     "output_type": "stream",
     "text": [
      "3.0\n",
      "1.0\n",
      "12.0\n"
     ]
    }
   ],
   "source": [
    "#prefix evaluation\n",
    "\n",
    "class stack(object):\n",
    "    def __init__(self):\n",
    "        self.item = []\n",
    "   \n",
    "    def isEmpty(self):\n",
    "        return self.item == []\n",
    "    \n",
    "    def add(self,item):\n",
    "        return self.item.append(item)\n",
    "    \n",
    "    def remove(self):\n",
    "        return self.item.pop()\n",
    "    \n",
    "    def top(self):\n",
    "        return self.item[-1]\n",
    "    \n",
    "    def size(self):\n",
    "        return len(self.item)\n",
    "    \n",
    "    def showall(self):\n",
    "        return print(self.item)\n",
    "#-------------------------------------\n",
    "\n",
    "def Prefixeval(prefix):\n",
    "    number = stack()\n",
    "    reverse = stack()\n",
    "    tokenlist = []\n",
    "    \n",
    "    def docalculation(op,op1,op2):\n",
    "        if op == '+':\n",
    "            return op1 + op2\n",
    "        elif op == '-':\n",
    "            return op1 - op2\n",
    "        elif op == '*':\n",
    "            return op1 * op2\n",
    "        elif op == '/':\n",
    "            return op1 / op2\n",
    "    \n",
    "    #reverse the prefix token\n",
    "    for token in prefix:\n",
    "        reverse.add(token)\n",
    "    while not reverse.isEmpty():\n",
    "        tokenlist.append(reverse.remove())\n",
    "        \n",
    "    for token in tokenlist:\n",
    "        if token in '1234567890':\n",
    "            number.add(token)\n",
    "        else:\n",
    "            operand1 = float(number.remove())\n",
    "            operand2 = float(number.remove())\n",
    "            result = docalculation(token,operand1,operand2)\n",
    "            number.add(result)\n",
    "    return number.remove()\n",
    "\n",
    "print(Prefixeval('/+78+32'))\n",
    "print(Prefixeval('-65'))\n",
    "print(Prefixeval('-++6/*293*428'))"
   ]
  }
 ],
 "metadata": {
  "kernelspec": {
   "display_name": "Python [default]",
   "language": "python",
   "name": "python3"
  },
  "language_info": {
   "codemirror_mode": {
    "name": "ipython",
    "version": 3
   },
   "file_extension": ".py",
   "mimetype": "text/x-python",
   "name": "python",
   "nbconvert_exporter": "python",
   "pygments_lexer": "ipython3",
   "version": "3.5.2"
  }
 },
 "nbformat": 4,
 "nbformat_minor": 1
}
