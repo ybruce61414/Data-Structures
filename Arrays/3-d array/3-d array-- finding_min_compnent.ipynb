{
 "cells": [
  {
   "cell_type": "code",
   "execution_count": 3,
   "metadata": {
    "collapsed": false
   },
   "outputs": [
    {
     "name": "stdout",
     "output_type": "stream",
     "text": [
      "minimum component: 7\n"
     ]
    }
   ],
   "source": [
    "# 3-darray find min component\n",
    "\n",
    "num = [[[33,45,67,56],[23,71,66,77],[55,38,66,48]],\\\n",
    "       [[21,9,15,7],[38,69,18,56],[90,101,89,65]]]\n",
    "\n",
    "minvalue = num[0][0][0]\n",
    "\n",
    "for i in range(len(num)):\n",
    "    for j in range(len(num[0])):\n",
    "        for k in range(len(num[0][0])):\n",
    "            if num[i][j][k] <= minvalue:\n",
    "                minvalue = num[i][j][k]\n",
    "\n",
    "print('minimum component: %d' %(minvalue))                "
   ]
  }
 ],
 "metadata": {
  "anaconda-cloud": {},
  "kernelspec": {
   "display_name": "Python [default]",
   "language": "python",
   "name": "python3"
  },
  "language_info": {
   "codemirror_mode": {
    "name": "ipython",
    "version": 3
   },
   "file_extension": ".py",
   "mimetype": "text/x-python",
   "name": "python",
   "nbconvert_exporter": "python",
   "pygments_lexer": "ipython3",
   "version": "3.5.2"
  }
 },
 "nbformat": 4,
 "nbformat_minor": 1
}
