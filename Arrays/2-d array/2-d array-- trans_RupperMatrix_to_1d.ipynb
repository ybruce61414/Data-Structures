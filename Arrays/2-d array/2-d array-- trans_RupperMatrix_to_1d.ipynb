{
 "cells": [
  {
   "cell_type": "code",
   "execution_count": 1,
   "metadata": {
    "collapsed": false
   },
   "outputs": [
    {
     "data": {
      "text/plain": [
       "[7, 8, 12, 21, 9, 5, 14, 17, 6, 7, 23, 24, 32, 19, 8]"
      ]
     },
     "execution_count": 1,
     "metadata": {},
     "output_type": "execute_result"
    }
   ],
   "source": [
    "#2-d array right upper triangular matrix\n",
    "# transfer those into 1-d array \n",
    "\n",
    "a = [[7,8,12,21,9],\n",
    "     [0,5,14,17,6],\n",
    "     [0,0,7,23,24],\n",
    "     [0,0,0,32,19],\n",
    "     [0,0,0,0,8]]\n",
    "\n",
    "def transR_upper(a):\n",
    "    \n",
    "    def testR_upper(a):\n",
    "        for row in a:\n",
    "            #testing if a is a matrix\n",
    "            if len(row) != len(a[0]): \n",
    "                return False\n",
    "        if len(a) != len(a[0]):\n",
    "            #testing if a is a square matrix\n",
    "            return False              \n",
    "            \n",
    "        #testing a is a right upper matrix\n",
    "        for i in range(len(a)):       \n",
    "            for j in range(len(a[0])):\n",
    "                if (i > j) and (a[i][j] != 0):\n",
    "                    return False\n",
    "        return True            \n",
    "    \n",
    "    #declaring 1-d array form                        \n",
    "    compress = []\n",
    "    #constructing compress 1-d array\n",
    "    \n",
    "    if testR_upper(a):\n",
    "        for i in range(len(a)):\n",
    "            for j in range(len(a[0])):\n",
    "                if a[i][j] != 0:\n",
    "                    compress.append(a[i][j])\n",
    "        return compress\n",
    "    else:\n",
    "        print(\"not a right upper matrix\")\n",
    "    \n",
    "transR_upper(a)    "
   ]
  }
 ],
 "metadata": {
  "kernelspec": {
   "display_name": "Python [default]",
   "language": "python",
   "name": "python3"
  },
  "language_info": {
   "codemirror_mode": {
    "name": "ipython",
    "version": 3
   },
   "file_extension": ".py",
   "mimetype": "text/x-python",
   "name": "python",
   "nbconvert_exporter": "python",
   "pygments_lexer": "ipython3",
   "version": "3.5.2"
  }
 },
 "nbformat": 4,
 "nbformat_minor": 1
}
