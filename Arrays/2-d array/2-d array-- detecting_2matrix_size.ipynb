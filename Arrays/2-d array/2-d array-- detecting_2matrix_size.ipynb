{
 "cells": [
  {
   "cell_type": "code",
   "execution_count": 1,
   "metadata": {
    "collapsed": false
   },
   "outputs": [
    {
     "data": {
      "text/plain": [
       "True"
      ]
     },
     "execution_count": 1,
     "metadata": {},
     "output_type": "execute_result"
    }
   ],
   "source": [
    "# 2-d array testing whether 2 matrices have the same size \n",
    "\n",
    "a = [[1,3,5],[7,9,11],[13,15,17]]\n",
    "b = [[9,8,7],[6,5,4],[3,2,1]]\n",
    "\n",
    "def testing(a,b):\n",
    "    #testing two matrices have the same size\n",
    "        for row in a:\n",
    "            #ensure each row has same size/ a&b have the same size of row\n",
    "            if (len(row) != len(a[0])) or (len(a) != len(b)):\n",
    "                return False\n",
    "        for row in b:\n",
    "            #ensure each row has same size/ a&b have the same size of row\n",
    "            if (len(row) != len(b[0])) or (len(a) != len(b)):\n",
    "                return False \n",
    "                \n",
    "        return True                   \n",
    "        \n",
    "testing(a,b)                                            "
   ]
  }
 ],
 "metadata": {
  "anaconda-cloud": {},
  "kernelspec": {
   "display_name": "Python [default]",
   "language": "python",
   "name": "python3"
  },
  "language_info": {
   "codemirror_mode": {
    "name": "ipython",
    "version": 3
   },
   "file_extension": ".py",
   "mimetype": "text/x-python",
   "name": "python",
   "nbconvert_exporter": "python",
   "pygments_lexer": "ipython3",
   "version": "3.5.2"
  }
 },
 "nbformat": 4,
 "nbformat_minor": 1
}
