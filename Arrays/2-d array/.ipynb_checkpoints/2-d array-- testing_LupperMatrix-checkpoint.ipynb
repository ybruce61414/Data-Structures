{
 "cells": [
  {
   "cell_type": "code",
   "execution_count": 1,
   "metadata": {
    "collapsed": false
   },
   "outputs": [
    {
     "data": {
      "text/plain": [
       "True"
      ]
     },
     "execution_count": 1,
     "metadata": {},
     "output_type": "execute_result"
    }
   ],
   "source": [
    "#2-d array left upper triangular matrix testing\n",
    "\n",
    "def testL_upper(a):\n",
    "    for row in a:\n",
    "        #testing if a is a matrix\n",
    "        if len(row) != len(a[0]): \n",
    "            return False\n",
    "    if len(a) != len(a[0]):\n",
    "        #testing if a is a square matrix\n",
    "        return False              \n",
    "    \n",
    "    for i in range(len(a)):\n",
    "        for j in range(len(a[0])):\n",
    "            if (i >= (len(a)-1)-j+1 ) and (a[i][j] != 0): \n",
    "                #testing if a is a left upper matrix\n",
    "                return False\n",
    "    return True\n",
    "\n",
    "a = [[7,8,12,21,9],\n",
    "     [5,14,17,6,0],\n",
    "     [7,23,24,0,0],\n",
    "     [32,19,0,0,0],\n",
    "     [8,0,0,0,0]]\n",
    "testL_upper(a)"
   ]
  }
 ],
 "metadata": {
  "kernelspec": {
   "display_name": "Python [default]",
   "language": "python",
   "name": "python3"
  },
  "language_info": {
   "codemirror_mode": {
    "name": "ipython",
    "version": 3
   },
   "file_extension": ".py",
   "mimetype": "text/x-python",
   "name": "python",
   "nbconvert_exporter": "python",
   "pygments_lexer": "ipython3",
   "version": "3.5.2"
  }
 },
 "nbformat": 4,
 "nbformat_minor": 1
}
