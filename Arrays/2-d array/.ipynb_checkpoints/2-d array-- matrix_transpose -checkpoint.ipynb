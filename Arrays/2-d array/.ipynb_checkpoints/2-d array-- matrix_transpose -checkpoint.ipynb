{
 "cells": [
  {
   "cell_type": "code",
   "execution_count": 1,
   "metadata": {
    "collapsed": false
   },
   "outputs": [
    {
     "data": {
      "text/plain": [
       "[[1, 5], [2, 6], [3, 7], [4, 8]]"
      ]
     },
     "execution_count": 1,
     "metadata": {},
     "output_type": "execute_result"
    }
   ],
   "source": [
    "#transpose matrix \n",
    "\n",
    "def trans(a):\n",
    "    c = [[None]*len(a) for row in range(len(a[0]))]\n",
    "    for i in range(len(a[0])):\n",
    "        for j in range(len(a)):\n",
    "            c[i][j] = a[j][i]\n",
    "    return c\n",
    "\n",
    "a = [[1,2,3,4],[5,6,7,8]]\n",
    "trans(a)"
   ]
  }
 ],
 "metadata": {
  "kernelspec": {
   "display_name": "Python [default]",
   "language": "python",
   "name": "python3"
  },
  "language_info": {
   "codemirror_mode": {
    "name": "ipython",
    "version": 3
   },
   "file_extension": ".py",
   "mimetype": "text/x-python",
   "name": "python",
   "nbconvert_exporter": "python",
   "pygments_lexer": "ipython3",
   "version": "3.5.2"
  }
 },
 "nbformat": 4,
 "nbformat_minor": 1
}
