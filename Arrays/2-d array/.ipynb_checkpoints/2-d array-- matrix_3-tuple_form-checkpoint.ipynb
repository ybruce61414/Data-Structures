{
 "cells": [
  {
   "cell_type": "code",
   "execution_count": 1,
   "metadata": {
    "collapsed": false
   },
   "outputs": [
    {
     "data": {
      "text/plain": [
       "[[6, 6, 9],\n",
       " [0, 0, 15],\n",
       " [0, 3, 22],\n",
       " [0, 5, -15],\n",
       " [1, 1, 11],\n",
       " [1, 2, 3],\n",
       " [2, 3, -6],\n",
       " [4, 0, 91],\n",
       " [5, 2, 28],\n",
       " [5, 4, 1]]"
      ]
     },
     "execution_count": 1,
     "metadata": {},
     "output_type": "execute_result"
    }
   ],
   "source": [
    "#sparse matrix transform into 3-tuple form\n",
    "\n",
    "a = [[15,0,0,22,0,-15],[0,11,3,0,0,0],\n",
    "     [0,0,0,-6,0,0],[0,0,0,0,0,0],\n",
    "    [91,0,0,0,0,0],[0,0,28,0,1,0]]\n",
    "\n",
    "def sparse(a):\n",
    "    #detecting the number of nonzero components\n",
    "    nonzeronum = 0\n",
    "    for i in range(len(a)):\n",
    "        for j in range(len(a[0])):\n",
    "            if a[i][j] != 0:\n",
    "                nonzeronum += 1\n",
    "                \n",
    "    #declaring the 3-tuple form                        \n",
    "    compress = [[None]*3 for row in range(nonzeronum+1)]\n",
    "    \n",
    "    #constructing compress \n",
    "    compress[0][0], compress[0][1], compress[0][2] = len(a), len(a[0]), nonzeronum \n",
    "    temp = 1\n",
    "    for i in range(len(a)):\n",
    "        for j in range(len(a[0])):\n",
    "            if a[i][j] != 0:\n",
    "                compress[temp][0] = i\n",
    "                compress[temp][1] = j\n",
    "                compress[temp][2] = a[i][j]\n",
    "                temp += 1\n",
    "    return compress\n",
    "\n",
    "sparse(a)"
   ]
  }
 ],
 "metadata": {
  "anaconda-cloud": {},
  "kernelspec": {
   "display_name": "Python [default]",
   "language": "python",
   "name": "python3"
  },
  "language_info": {
   "codemirror_mode": {
    "name": "ipython",
    "version": 3
   },
   "file_extension": ".py",
   "mimetype": "text/x-python",
   "name": "python",
   "nbconvert_exporter": "python",
   "pygments_lexer": "ipython3",
   "version": "3.5.2"
  }
 },
 "nbformat": 4,
 "nbformat_minor": 1
}
