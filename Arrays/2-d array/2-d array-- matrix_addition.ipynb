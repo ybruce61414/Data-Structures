{
 "cells": [
  {
   "cell_type": "code",
   "execution_count": 2,
   "metadata": {
    "collapsed": false
   },
   "outputs": [
    {
     "name": "stdout",
     "output_type": "stream",
     "text": [
      "[[10, 11, 12], [13, 14, 15], [16, 17, 18]]\n"
     ]
    }
   ],
   "source": [
    "# 2-d array matrix operation addition\n",
    "\n",
    "def addition(a,b):\n",
    "    def testing(a,b):\n",
    "        for row in a:\n",
    "            #ensure each row has same size/ a&b have the same size of row\n",
    "            if (len(row) != len(a[0])) or (len(a) != len(b)):\n",
    "                return False\n",
    "        for row in b:\n",
    "            if (len(row) != len(b[0])) or (len(a) != len(b)):\n",
    "                return False\n",
    "        return True           \n",
    "        \n",
    "    if testing(a,b):\n",
    "        for i in range(len(a)):\n",
    "            for j in range(len(a[0])):\n",
    "                b[i][j] = a[i][j] + b[i][j]  \n",
    "        print(b)\n",
    "    else:\n",
    "        print('invlaid operation')\n",
    "\n",
    "a = [[1,3,5],[7,9,11],[13,15,17]]\n",
    "b = [[9,8,7],[6,5,4],[3,2,1]]       \n",
    "addition(a,b)            "
   ]
  }
 ],
 "metadata": {
  "anaconda-cloud": {},
  "kernelspec": {
   "display_name": "Python [default]",
   "language": "python",
   "name": "python3"
  },
  "language_info": {
   "codemirror_mode": {
    "name": "ipython",
    "version": 3
   },
   "file_extension": ".py",
   "mimetype": "text/x-python",
   "name": "python",
   "nbconvert_exporter": "python",
   "pygments_lexer": "ipython3",
   "version": "3.5.2"
  }
 },
 "nbformat": 4,
 "nbformat_minor": 1
}
