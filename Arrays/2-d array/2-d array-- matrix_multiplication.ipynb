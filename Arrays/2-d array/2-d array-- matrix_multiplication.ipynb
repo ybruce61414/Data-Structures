{
 "cells": [
  {
   "cell_type": "code",
   "execution_count": 1,
   "metadata": {
    "collapsed": false
   },
   "outputs": [
    {
     "data": {
      "text/plain": [
       "[[74, 60], [116, 104]]"
      ]
     },
     "execution_count": 1,
     "metadata": {},
     "output_type": "execute_result"
    }
   ],
   "source": [
    "# 2-d array matrix operation multiplication\n",
    "\n",
    "def multi(a,b):\n",
    "    \n",
    "    def testmulti(a,b):\n",
    "        #testing validation for mutiplication\n",
    "        for row in a:\n",
    "            #whether a is a matrix\n",
    "            if len(row) != len(a[0]): \n",
    "                return False\n",
    "        for row in b:\n",
    "            #whether b is a matrix\n",
    "            if len(row) != len(b[0]): \n",
    "                return False\n",
    "    \n",
    "        if len(a[0]) != len(b):\n",
    "            return False\n",
    "        else:\n",
    "            return True\n",
    "    \n",
    "    if testmulti(a,b):\n",
    "        c = [[None]*len(b[0]) for row in range(len(a))]\n",
    "        for i in range(len(a)): \n",
    "            #row\n",
    "            for j in range(len(b[0])):     \n",
    "                #column\n",
    "                c[i][j] = 0\n",
    "                for k in range(len(a[0])):\n",
    "                    c[i][j] += a[i][k]*b[k][j]\n",
    "    return c        \n",
    "\n",
    "a = [[5,6,3],[8,4,8]]\n",
    "b = [[4,6],[5,2],[8,6]]\n",
    "\n",
    "multi(a,b)"
   ]
  }
 ],
 "metadata": {
  "anaconda-cloud": {},
  "kernelspec": {
   "display_name": "Python [default]",
   "language": "python",
   "name": "python3"
  },
  "language_info": {
   "codemirror_mode": {
    "name": "ipython",
    "version": 3
   },
   "file_extension": ".py",
   "mimetype": "text/x-python",
   "name": "python",
   "nbconvert_exporter": "python",
   "pygments_lexer": "ipython3",
   "version": "3.5.2"
  }
 },
 "nbformat": 4,
 "nbformat_minor": 1
}
