{
 "cells": [
  {
   "cell_type": "code",
   "execution_count": 1,
   "metadata": {
    "collapsed": false
   },
   "outputs": [
    {
     "name": "stdout",
     "output_type": "stream",
     "text": [
      "No.1 student's score: 87\n",
      "No.2 student's score: 66\n",
      "No.3 student's score: 90\n",
      "No.4 student's score: 65\n",
      "No.5 student's score: 70\n",
      "total score: 378\n"
     ]
    }
   ],
   "source": [
    "# 1-d array linear list \n",
    "'''Arranging contigous memory and providing direct \n",
    "   access to single data content calculation method'''\n",
    "\n",
    "score = [87,66,90,65,70]\n",
    "total_score = 0 \n",
    "\n",
    "for count in range(len(score)):\n",
    "    print('No.%d student\\'s score: %d' %(count+1,score[count]))\n",
    "    total_score += score[count]\n",
    "    \n",
    "print('total score: %d' %(total_score))    "
   ]
  }
 ],
 "metadata": {
  "anaconda-cloud": {},
  "kernelspec": {
   "display_name": "Python [default]",
   "language": "python",
   "name": "python3"
  },
  "language_info": {
   "codemirror_mode": {
    "name": "ipython",
    "version": 3
   },
   "file_extension": ".py",
   "mimetype": "text/x-python",
   "name": "python",
   "nbconvert_exporter": "python",
   "pygments_lexer": "ipython3",
   "version": "3.5.2"
  }
 },
 "nbformat": 4,
 "nbformat_minor": 1
}
